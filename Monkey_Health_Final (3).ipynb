{
  "nbformat": 4,
  "nbformat_minor": 0,
  "metadata": {
    "colab": {
      "name": "Monkey Health Final.ipynb",
      "provenance": [],
      "collapsed_sections": []
    },
    "kernelspec": {
      "name": "python3",
      "display_name": "Python 3"
    },
    "language_info": {
      "name": "python"
    },
    "accelerator": "GPU"
  },
  "cells": [
    {
      "cell_type": "code",
      "metadata": {
        "id": "-EXIF6Dz_o51"
      },
      "source": [
        "# Clone the Darknet repo\n",
        "!git clone https://github.com/AlexeyAB/darknet"
      ],
      "execution_count": null,
      "outputs": []
    },
    {
      "cell_type": "code",
      "metadata": {
        "id": "90kLK4Q__to5"
      },
      "source": [
        "# Enable GPU and OPENCV\n",
        "%cd darknet\n",
        "!sed -i 's/OPENCV=0/OPENCV=1/' Makefile\n",
        "!sed -i 's/GPU=0/GPU=1/' Makefile\n",
        "!sed -i 's/CUDNN=0/CUDNN=1/' Makefile"
      ],
      "execution_count": null,
      "outputs": []
    },
    {
      "cell_type": "code",
      "metadata": {
        "id": "2zqb6PKe_vmq"
      },
      "source": [
        "# Verify CUDA\n",
        "!/usr/local/cuda/bin/nvcc --version"
      ],
      "execution_count": null,
      "outputs": []
    },
    {
      "cell_type": "code",
      "metadata": {
        "id": "DScr8RQg_v1x"
      },
      "source": [
        "# Make the Darknet build\n",
        "!make"
      ],
      "execution_count": null,
      "outputs": []
    },
    {
      "cell_type": "markdown",
      "metadata": {
        "id": "nDq-Q4FO_y1e"
      },
      "source": [
        "## Define imShow, upload, and download functions"
      ]
    },
    {
      "cell_type": "code",
      "metadata": {
        "id": "dab-K_J1_3Ff"
      },
      "source": [
        "# Function to show predictions\n",
        "def imShow(path):\n",
        "  import matplotlib.pyplot as plt\n",
        "  import cv2\n",
        "  %matplotlib inline\n",
        "\n",
        "  image = cv2.imread(path)\n",
        "  height, width = image.shape[:2]\n",
        "  resized_image = cv2.resize(image,(3*width, 3*height), interpolation = cv2.INTER_CUBIC)\n",
        "\n",
        "  fig = plt.gcf()\n",
        "  fig.set_size_inches(18, 10)\n",
        "  plt.axis(\"off\")\n",
        "  plt.imshow(cv2.cvtColor(resized_image, cv2.COLOR_BGR2RGB))\n",
        "  plt.show()\n",
        "\n",
        "# Function for uploading files\n",
        "def upload():\n",
        "  from google.colab import files\n",
        "  uploaded = files.upload() \n",
        "  for name, data in uploaded.items():\n",
        "    with open(name, 'wb') as f:\n",
        "      f.write(data)\n",
        "      print ('saved file', name)\n",
        "\n",
        "# Function for downloading files\n",
        "def download(path):\n",
        "  from google.colab import files\n",
        "  files.download(path)"
      ],
      "execution_count": 5,
      "outputs": []
    },
    {
      "cell_type": "markdown",
      "metadata": {
        "id": "Gag_tnJf__Uu"
      },
      "source": [
        "## Set up the Algorithm"
      ]
    },
    {
      "cell_type": "code",
      "metadata": {
        "id": "LgW4XUSdACgA"
      },
      "source": [
        "# Mount Google Drive\n",
        "%cd ..\n",
        "from google.colab import drive\n",
        "drive.mount('/content/gdrive')"
      ],
      "execution_count": null,
      "outputs": []
    },
    {
      "cell_type": "code",
      "metadata": {
        "id": "MMX5EqDvAFkG"
      },
      "source": [
        "# Makes the path /content/gdrive/My\\ Drive/ equal to /mydrive\n",
        "!ln -s /content/gdrive/My\\ Drive/ /mydrive\n",
        "!ls /mydrive"
      ],
      "execution_count": null,
      "outputs": []
    },
    {
      "cell_type": "code",
      "metadata": {
        "id": "k8FU6NU2AKMJ"
      },
      "source": [
        "# Print a list of all files of the MonkeyHealth folder\n",
        "!ls /content/gdrive/MyDrive/MonkeyHealth"
      ],
      "execution_count": null,
      "outputs": []
    },
    {
      "cell_type": "code",
      "metadata": {
        "id": "41yUgi1nALZs"
      },
      "source": [
        "# Make sure we are on the darknet directory\n",
        "# Sometimes, a folder called \"data\" will be created outside of the darknet folder when unzipping the obj.zip file\n",
        "# so we do this to make sure the obj.zip file is unzipped inside the /darknet/data/obj directory\n",
        "import os\n",
        "os.chdir('/content/darknet')"
      ],
      "execution_count": 9,
      "outputs": []
    },
    {
      "cell_type": "code",
      "metadata": {
        "id": "FrEZ8aUSALn3"
      },
      "source": [
        "# Copy the .zip file into the root directory of cloud VM\n",
        "!cp /content/gdrive/MyDrive/MonkeyHealth/obj.zip ../"
      ],
      "execution_count": 10,
      "outputs": []
    },
    {
      "cell_type": "code",
      "metadata": {
        "id": "dd_slRoMANiA"
      },
      "source": [
        "# Unzip the zip file\n",
        "!unzip ../obj.zip -d data/"
      ],
      "execution_count": null,
      "outputs": []
    },
    {
      "cell_type": "code",
      "metadata": {
        "id": "j1bQyAEtAP9U"
      },
      "source": [
        "# Upload the custom .cfg file back to cloud VM from Google Drive\n",
        "!cp /content/gdrive/MyDrive/MonkeyHealth/yolov3_custom.cfg ./cfg"
      ],
      "execution_count": 12,
      "outputs": []
    },
    {
      "cell_type": "code",
      "metadata": {
        "id": "MOzDp3IXAQkP"
      },
      "source": [
        "# Upload the obj.names and obj.data files to cloud VM from Google Drive\n",
        "!cp /content/gdrive/MyDrive/MonkeyHealth/obj.names ./data\n",
        "!cp /content/gdrive/MyDrive/MonkeyHealth/obj.data  ./data"
      ],
      "execution_count": 13,
      "outputs": []
    },
    {
      "cell_type": "markdown",
      "metadata": {
        "id": "Y5XzsrVlAkLI"
      },
      "source": [
        "## Run the Algorithm"
      ]
    },
    {
      "cell_type": "code",
      "metadata": {
        "id": "h1ohIrbGAWj2"
      },
      "source": [
        "# Set custom .cfg to test mode \n",
        "%cd cfg\n",
        "!sed -i 's/batch=64/batch=1/' yolov3_custom.cfg\n",
        "!sed -i 's/subdivisions=16/subdivisions=1/' yolov3_custom.cfg\n",
        "%cd .."
      ],
      "execution_count": null,
      "outputs": []
    },
    {
      "cell_type": "code",
      "metadata": {
        "id": "8EbV-ZZoAoKQ"
      },
      "source": [
        "# Run the object detector based on an image from Google Drive\n",
        "!./darknet detector test data/obj.data cfg/yolov3_custom.cfg /content/gdrive/MyDrive/MonkeyHealth/backup/yolov3_custom_last.weights /content/gdrive/MyDrive/MonkeyHealth/images/MHTestImage1.jpeg -thresh 0.5 -dont_show\n",
        "imShow('predictions.jpg')\n",
        "\n",
        "!cp predictions.jpg /content/gdrive/MyDrive/MonkeyHealth/images/MH1Detection.jpeg"
      ],
      "execution_count": null,
      "outputs": []
    }
  ]
}